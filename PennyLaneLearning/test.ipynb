{
 "cells": [
  {
   "cell_type": "markdown",
   "metadata": {},
   "source": [
    "# A Basic Quantum Circuit\n",
    "\n",
    "This is just a basic quantum circuit tutorial. Copying the one sen in the pennylane tutorial here: https://pennylane.ai/qml/demos/tutorial_qubit_rotation.html\n",
    "\n",
    "We begin with imports.\n"
   ]
  },
  {
   "cell_type": "code",
   "execution_count": 7,
   "metadata": {},
   "outputs": [],
   "source": [
    "import pennylane as qml\n",
    "from pennylane import numpy as np"
   ]
  },
  {
   "cell_type": "markdown",
   "metadata": {},
   "source": [
    "## Implementation\n",
    "\n",
    "Below we implement our basic quantum circuit. We begin by creating our simularion quantum computer. It is a pure state qubit simulator. A pure state qubit simulator means (thinking in terms of the Bloch Sphere), that we are able to generate points along the surface of this sphere, in contrast to a mixed state, where we are capable of generating points in the interior of the bloch sphere. Consider this as the type of data we want our quantum computer simulator to be able to generate.\n",
    "\n",
    "A pure state can and is define by a state vector. A completely mixed state would be one where it is directly in the center of the bloch sphere. "
   ]
  },
  {
   "cell_type": "code",
   "execution_count": 8,
   "metadata": {},
   "outputs": [],
   "source": [
    "# Device accepts name and number of wires. We only need a single qubit\n",
    "# for our example so only 1 wire.\n",
    "\n",
    "dev1 = qml.device(\"default.qubit\", wires=1) "
   ]
  },
  {
   "cell_type": "markdown",
   "metadata": {},
   "source": [
    "# Defining QNode\n",
    "\n",
    "The QNode is an abstraction, a concept created by the makers of pennylane (and most quantum software but perhaps just under different names). We have our quantum operators, which can be placed in a circuit, which takes and input qbit (or many) and outputs qbits (one or many). \n",
    "\n",
    "THe QNode is useful because it allows us to bundle all this operations into a neat box. Abstract away all the details of a potentially very cumbersome circuit, and then if we need to reuse the same QNode later we don't have to copy paste the same circuit several times.\n",
    "\n",
    "In PennyLane, QNodes are constructed using the QNode class, or by using qnode() decorator."
   ]
  },
  {
   "cell_type": "code",
   "execution_count": 9,
   "metadata": {},
   "outputs": [],
   "source": [
    "def circuit(params):\n",
    "    qml.RX(params[0], wires=0) # Rx is a common gate (param is angle)\n",
    "    qml.RY(params[1], wires=0) # Ry is a common gate (param is angle)\n",
    "     # We apply Pauli Z operator\n",
    "    return qml.expval(qml.PauliZ(0)) # And observe the result or expected value"
   ]
  },
  {
   "cell_type": "markdown",
   "metadata": {},
   "source": [
    "# Python Functions vs Quantum Functions\n",
    "\n",
    "They are constructed in the same way as you can see above. But quantum functions are a subset of python functions on they require you to obey certain rules. Those are:\n",
    "\n",
    "1. Quantum functions can only contain quantum operations.\n",
    "\n",
    "2.  They must contain only one operation per line.\n",
    "\n",
    "3. The order of operation must be the same as the order they are applied in the circuit itself.\n",
    "\n",
    "4. Quantum functions must return a classical quantity. This means a single or tuple of measured observables.\n",
    "\n",
    "5. These measurment return types of the full list of observable quantites can be found:\n",
    "\n",
    "https://pennylane.readthedocs.io/en/stable/introduction/operations.html\n",
    "\n",
    "and\n",
    "\n",
    "https://pennylane.readthedocs.io/en/stable/introduction/measurements.html\n",
    "\n",
    "6. Quantum functions must not contain any classical processing of circuit parameters.\n",
    "\n",
    "Note that certain devices may only support certain operations/observables so see plug-in info for details on penny lane website."
   ]
  },
  {
   "cell_type": "markdown",
   "metadata": {},
   "source": [
    "# Convert Quantum Function to QNode\n",
    "\n",
    "Below we take the circuit we created above and turn it into a QNode by applying the qnode() decortator to it."
   ]
  },
  {
   "cell_type": "code",
   "execution_count": 10,
   "metadata": {},
   "outputs": [],
   "source": [
    "@qml.qnode(dev1)\n",
    "\n",
    "def circuit(params):\n",
    "    qml.RX(params[0], wires=0) # Rx is a common gate (param is angle)\n",
    "    qml.RY(params[1], wires=0) # Ry is a common gate (param is angle)\n",
    "     # We apply Pauli Z operator\n",
    "    return qml.expval(qml.PauliZ(0)) # And observe the result or expected value\n"
   ]
  },
  {
   "cell_type": "markdown",
   "metadata": {},
   "source": [
    "# Calling our QNode\n",
    "\n",
    "We can now call our QNode just like any function. We pass it in the parameters for our Rx and Ry operators and voila (bob's you're uncle), out comes our answer.\n",
    "\n",
    "Intersting actual note here is that this is the same as the output of PennyLane's (as you might expect). But interesting that they are actually are the same and that we can in fact make quantum computing deterministic to begin with."
   ]
  },
  {
   "cell_type": "code",
   "execution_count": 12,
   "metadata": {},
   "outputs": [
    {
     "name": "stdout",
     "output_type": "stream",
     "text": [
      "0.8515405859048366\n"
     ]
    }
   ],
   "source": [
    "print(circuit([0.54, 0.12])) "
   ]
  },
  {
   "cell_type": "code",
   "execution_count": null,
   "metadata": {},
   "outputs": [],
   "source": []
  }
 ],
 "metadata": {
  "kernelspec": {
   "display_name": "Python 3",
   "language": "python",
   "name": "python3"
  },
  "language_info": {
   "codemirror_mode": {
    "name": "ipython",
    "version": 3
   },
   "file_extension": ".py",
   "mimetype": "text/x-python",
   "name": "python",
   "nbconvert_exporter": "python",
   "pygments_lexer": "ipython3",
   "version": "3.8.3"
  }
 },
 "nbformat": 4,
 "nbformat_minor": 4
}
